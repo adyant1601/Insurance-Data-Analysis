{
 "cells": [
  {
   "cell_type": "markdown",
   "id": "2dae6e09-688d-4ba7-b91a-a478e13b32de",
   "metadata": {},
   "source": [
    "# Creating DB and Loading Data"
   ]
  },
  {
   "cell_type": "code",
   "execution_count": 1,
   "id": "7fceb476-d298-4523-bee2-b382e777560b",
   "metadata": {},
   "outputs": [],
   "source": [
    "import pandas as pd\n",
    "df = pd.read_csv('InsuranceData.csv')"
   ]
  },
  {
   "cell_type": "code",
   "execution_count": 2,
   "id": "dc9f6ea9-a039-46a4-b2e7-5162320d4f0f",
   "metadata": {},
   "outputs": [
    {
     "data": {
      "text/html": [
       "<div>\n",
       "<style scoped>\n",
       "    .dataframe tbody tr th:only-of-type {\n",
       "        vertical-align: middle;\n",
       "    }\n",
       "\n",
       "    .dataframe tbody tr th {\n",
       "        vertical-align: top;\n",
       "    }\n",
       "\n",
       "    .dataframe thead th {\n",
       "        text-align: right;\n",
       "    }\n",
       "</style>\n",
       "<table border=\"1\" class=\"dataframe\">\n",
       "  <thead>\n",
       "    <tr style=\"text-align: right;\">\n",
       "      <th></th>\n",
       "      <th>PolicyNumber</th>\n",
       "      <th>CustomerID</th>\n",
       "      <th>Gender</th>\n",
       "      <th>Age</th>\n",
       "      <th>PolicyType</th>\n",
       "      <th>PolicyStartDate</th>\n",
       "      <th>PolicyEndDate</th>\n",
       "      <th>PremiumAmount</th>\n",
       "      <th>CoverageAmount</th>\n",
       "      <th>ClaimNumber</th>\n",
       "      <th>ClaimDate</th>\n",
       "      <th>ClaimAmount</th>\n",
       "      <th>ClaimStatus</th>\n",
       "    </tr>\n",
       "  </thead>\n",
       "  <tbody>\n",
       "    <tr>\n",
       "      <th>0</th>\n",
       "      <td>P1</td>\n",
       "      <td>C1</td>\n",
       "      <td>Female</td>\n",
       "      <td>73</td>\n",
       "      <td>Auto</td>\n",
       "      <td>13-02-2024</td>\n",
       "      <td>13-02-2025</td>\n",
       "      <td>240.64</td>\n",
       "      <td>33175.10</td>\n",
       "      <td>C1</td>\n",
       "      <td>NaN</td>\n",
       "      <td>0.00</td>\n",
       "      <td>Rejected</td>\n",
       "    </tr>\n",
       "    <tr>\n",
       "      <th>1</th>\n",
       "      <td>P2</td>\n",
       "      <td>C2</td>\n",
       "      <td>Male</td>\n",
       "      <td>44</td>\n",
       "      <td>Travel</td>\n",
       "      <td>03-03-2024</td>\n",
       "      <td>03-03-2025</td>\n",
       "      <td>1059.73</td>\n",
       "      <td>85046.42</td>\n",
       "      <td>C2</td>\n",
       "      <td>22-06-2024</td>\n",
       "      <td>1493.06</td>\n",
       "      <td>Pending</td>\n",
       "    </tr>\n",
       "    <tr>\n",
       "      <th>2</th>\n",
       "      <td>P3</td>\n",
       "      <td>C3</td>\n",
       "      <td>Female</td>\n",
       "      <td>28</td>\n",
       "      <td>Travel</td>\n",
       "      <td>15-06-2024</td>\n",
       "      <td>15-06-2025</td>\n",
       "      <td>1019.59</td>\n",
       "      <td>68525.53</td>\n",
       "      <td>C3</td>\n",
       "      <td>NaN</td>\n",
       "      <td>0.00</td>\n",
       "      <td>Rejected</td>\n",
       "    </tr>\n",
       "    <tr>\n",
       "      <th>3</th>\n",
       "      <td>P4</td>\n",
       "      <td>C4</td>\n",
       "      <td>Male</td>\n",
       "      <td>85</td>\n",
       "      <td>Travel</td>\n",
       "      <td>03-06-2024</td>\n",
       "      <td>03-06-2025</td>\n",
       "      <td>549.70</td>\n",
       "      <td>17053.27</td>\n",
       "      <td>C4</td>\n",
       "      <td>25-02-2025</td>\n",
       "      <td>5021.34</td>\n",
       "      <td>Pending</td>\n",
       "    </tr>\n",
       "    <tr>\n",
       "      <th>4</th>\n",
       "      <td>P5</td>\n",
       "      <td>C5</td>\n",
       "      <td>Female</td>\n",
       "      <td>57</td>\n",
       "      <td>Travel</td>\n",
       "      <td>13-06-2024</td>\n",
       "      <td>13-06-2025</td>\n",
       "      <td>841.15</td>\n",
       "      <td>55007.27</td>\n",
       "      <td>C5</td>\n",
       "      <td>30-11-2024</td>\n",
       "      <td>1347.46</td>\n",
       "      <td>Pending</td>\n",
       "    </tr>\n",
       "  </tbody>\n",
       "</table>\n",
       "</div>"
      ],
      "text/plain": [
       "  PolicyNumber CustomerID  Gender  Age PolicyType PolicyStartDate  \\\n",
       "0           P1         C1  Female   73       Auto      13-02-2024   \n",
       "1           P2         C2    Male   44     Travel      03-03-2024   \n",
       "2           P3         C3  Female   28     Travel      15-06-2024   \n",
       "3           P4         C4    Male   85     Travel      03-06-2024   \n",
       "4           P5         C5  Female   57     Travel      13-06-2024   \n",
       "\n",
       "  PolicyEndDate  PremiumAmount  CoverageAmount ClaimNumber   ClaimDate  \\\n",
       "0    13-02-2025         240.64        33175.10          C1         NaN   \n",
       "1    03-03-2025        1059.73        85046.42          C2  22-06-2024   \n",
       "2    15-06-2025        1019.59        68525.53          C3         NaN   \n",
       "3    03-06-2025         549.70        17053.27          C4  25-02-2025   \n",
       "4    13-06-2025         841.15        55007.27          C5  30-11-2024   \n",
       "\n",
       "   ClaimAmount ClaimStatus  \n",
       "0         0.00    Rejected  \n",
       "1      1493.06     Pending  \n",
       "2         0.00    Rejected  \n",
       "3      5021.34     Pending  \n",
       "4      1347.46     Pending  "
      ]
     },
     "execution_count": 2,
     "metadata": {},
     "output_type": "execute_result"
    }
   ],
   "source": [
    "df.head()"
   ]
  },
  {
   "cell_type": "code",
   "execution_count": 3,
   "id": "203b02b4-b859-48f9-b71d-b10cd2aed5da",
   "metadata": {},
   "outputs": [],
   "source": [
    "# Creating a SQL DB.\n",
    "\n",
    "import sqlite3\n",
    "conn = sqlite3.connect('insurance_data_analysis.db')"
   ]
  },
  {
   "cell_type": "code",
   "execution_count": 4,
   "id": "06315d04-6a38-46d6-85c5-322e449960bd",
   "metadata": {},
   "outputs": [
    {
     "data": {
      "text/plain": [
       "10004"
      ]
     },
     "execution_count": 4,
     "metadata": {},
     "output_type": "execute_result"
    }
   ],
   "source": [
    "# loading the data into the DB\n",
    "\n",
    "df.to_sql('insurance', conn)"
   ]
  },
  {
   "cell_type": "markdown",
   "id": "ec026379-2b66-4ca3-bf3c-073ac746dcf5",
   "metadata": {},
   "source": [
    "# Setting up the SQL Magic"
   ]
  },
  {
   "cell_type": "code",
   "execution_count": 5,
   "id": "76c7a8a3-7c50-4a3c-9feb-1b67fb7d0b2c",
   "metadata": {},
   "outputs": [
    {
     "data": {
      "text/html": [
       "<span style=\"None\">Connecting to &#x27;sqlite:///insurance_data_analysis.db&#x27;</span>"
      ],
      "text/plain": [
       "Connecting to 'sqlite:///insurance_data_analysis.db'"
      ]
     },
     "metadata": {},
     "output_type": "display_data"
    }
   ],
   "source": [
    "%load_ext sql\n",
    "%sql sqlite:///insurance_data_analysis.db\n",
    "%config SqlMagic.style = 'PLAIN_COLUMNS'"
   ]
  },
  {
   "cell_type": "markdown",
   "id": "0bb4f353-13f6-4f19-9105-8d643ae7d61d",
   "metadata": {},
   "source": [
    "### Show the first 5 rows of the dataset."
   ]
  },
  {
   "cell_type": "code",
   "execution_count": 6,
   "id": "ad8ea9ac-a8d3-4264-bc47-aec1e7781eea",
   "metadata": {},
   "outputs": [
    {
     "data": {
      "text/html": [
       "<span style=\"None\">Running query in &#x27;sqlite:///insurance_data_analysis.db&#x27;</span>"
      ],
      "text/plain": [
       "Running query in 'sqlite:///insurance_data_analysis.db'"
      ]
     },
     "metadata": {},
     "output_type": "display_data"
    },
    {
     "data": {
      "text/html": [
       "<table>\n",
       "    <thead>\n",
       "        <tr>\n",
       "            <th>index</th>\n",
       "            <th>PolicyNumber</th>\n",
       "            <th>CustomerID</th>\n",
       "            <th>Gender</th>\n",
       "            <th>Age</th>\n",
       "            <th>PolicyType</th>\n",
       "            <th>PolicyStartDate</th>\n",
       "            <th>PolicyEndDate</th>\n",
       "            <th>PremiumAmount</th>\n",
       "            <th>CoverageAmount</th>\n",
       "            <th>ClaimNumber</th>\n",
       "            <th>ClaimDate</th>\n",
       "            <th>ClaimAmount</th>\n",
       "            <th>ClaimStatus</th>\n",
       "        </tr>\n",
       "    </thead>\n",
       "    <tbody>\n",
       "        <tr>\n",
       "            <td>0</td>\n",
       "            <td>P1</td>\n",
       "            <td>C1</td>\n",
       "            <td>Female</td>\n",
       "            <td>73</td>\n",
       "            <td>Auto</td>\n",
       "            <td>13-02-2024</td>\n",
       "            <td>13-02-2025</td>\n",
       "            <td>240.64</td>\n",
       "            <td>33175.1</td>\n",
       "            <td>C1</td>\n",
       "            <td>None</td>\n",
       "            <td>0.0</td>\n",
       "            <td>Rejected</td>\n",
       "        </tr>\n",
       "        <tr>\n",
       "            <td>1</td>\n",
       "            <td>P2</td>\n",
       "            <td>C2</td>\n",
       "            <td>Male</td>\n",
       "            <td>44</td>\n",
       "            <td>Travel</td>\n",
       "            <td>03-03-2024</td>\n",
       "            <td>03-03-2025</td>\n",
       "            <td>1059.73</td>\n",
       "            <td>85046.42</td>\n",
       "            <td>C2</td>\n",
       "            <td>22-06-2024</td>\n",
       "            <td>1493.06</td>\n",
       "            <td>Pending</td>\n",
       "        </tr>\n",
       "        <tr>\n",
       "            <td>2</td>\n",
       "            <td>P3</td>\n",
       "            <td>C3</td>\n",
       "            <td>Female</td>\n",
       "            <td>28</td>\n",
       "            <td>Travel</td>\n",
       "            <td>15-06-2024</td>\n",
       "            <td>15-06-2025</td>\n",
       "            <td>1019.59</td>\n",
       "            <td>68525.53</td>\n",
       "            <td>C3</td>\n",
       "            <td>None</td>\n",
       "            <td>0.0</td>\n",
       "            <td>Rejected</td>\n",
       "        </tr>\n",
       "        <tr>\n",
       "            <td>3</td>\n",
       "            <td>P4</td>\n",
       "            <td>C4</td>\n",
       "            <td>Male</td>\n",
       "            <td>85</td>\n",
       "            <td>Travel</td>\n",
       "            <td>03-06-2024</td>\n",
       "            <td>03-06-2025</td>\n",
       "            <td>549.7</td>\n",
       "            <td>17053.27</td>\n",
       "            <td>C4</td>\n",
       "            <td>25-02-2025</td>\n",
       "            <td>5021.34</td>\n",
       "            <td>Pending</td>\n",
       "        </tr>\n",
       "        <tr>\n",
       "            <td>4</td>\n",
       "            <td>P5</td>\n",
       "            <td>C5</td>\n",
       "            <td>Female</td>\n",
       "            <td>57</td>\n",
       "            <td>Travel</td>\n",
       "            <td>13-06-2024</td>\n",
       "            <td>13-06-2025</td>\n",
       "            <td>841.15</td>\n",
       "            <td>55007.27</td>\n",
       "            <td>C5</td>\n",
       "            <td>30-11-2024</td>\n",
       "            <td>1347.46</td>\n",
       "            <td>Pending</td>\n",
       "        </tr>\n",
       "    </tbody>\n",
       "</table>"
      ],
      "text/plain": [
       "index        PolicyNumber        CustomerID        Gender        Age        PolicyType        PolicyStartDate        PolicyEndDate        PremiumAmount        CoverageAmount        ClaimNumber        ClaimDate         ClaimAmount        ClaimStatus        \n",
       "  0               P1                 C1            Female         73           Auto              13-02-2024            13-02-2025             240.64              33175.1                 C1               None               0.0              Rejected         \n",
       "  1               P2                 C2             Male          44          Travel             03-03-2024            03-03-2025            1059.73              85046.42                C2            22-06-2024          1493.06            Pending          \n",
       "  2               P3                 C3            Female         28          Travel             15-06-2024            15-06-2025            1019.59              68525.53                C3               None               0.0              Rejected         \n",
       "  3               P4                 C4             Male          85          Travel             03-06-2024            03-06-2025             549.7               17053.27                C4            25-02-2025          5021.34            Pending          \n",
       "  4               P5                 C5            Female         57          Travel             13-06-2024            13-06-2025             841.15              55007.27                C5            30-11-2024          1347.46            Pending          "
      ]
     },
     "execution_count": 6,
     "metadata": {},
     "output_type": "execute_result"
    }
   ],
   "source": [
    "%%sql\n",
    "\n",
    "select * from insurance limit 5;"
   ]
  },
  {
   "cell_type": "markdown",
   "id": "6b4f2817-2b16-4fae-b879-44fc1bec3cbe",
   "metadata": {},
   "source": [
    "### Find the total PremiumAmount, CoverageAmount and ClaimAmount"
   ]
  },
  {
   "cell_type": "code",
   "execution_count": 7,
   "id": "364d2eb1-84ce-4d9e-964c-697dd2c24775",
   "metadata": {},
   "outputs": [
    {
     "data": {
      "text/html": [
       "<span style=\"None\">Running query in &#x27;sqlite:///insurance_data_analysis.db&#x27;</span>"
      ],
      "text/plain": [
       "Running query in 'sqlite:///insurance_data_analysis.db'"
      ]
     },
     "metadata": {},
     "output_type": "display_data"
    },
    {
     "data": {
      "text/html": [
       "<table>\n",
       "    <thead>\n",
       "        <tr>\n",
       "            <th>Premium Amount</th>\n",
       "            <th>Coverage Amount</th>\n",
       "            <th>Claim Amount</th>\n",
       "        </tr>\n",
       "    </thead>\n",
       "    <tbody>\n",
       "        <tr>\n",
       "            <td>5976969.88</td>\n",
       "            <td>600551497.67</td>\n",
       "            <td>16912302.73</td>\n",
       "        </tr>\n",
       "    </tbody>\n",
       "</table>"
      ],
      "text/plain": [
       "Premium Amount        Coverage Amount        Claim Amount        \n",
       "  5976969.88            600551497.67         16912302.73         "
      ]
     },
     "execution_count": 7,
     "metadata": {},
     "output_type": "execute_result"
    }
   ],
   "source": [
    "%%sql\n",
    "select \n",
    "    sum(premiumamount) as 'Premium Amount',\n",
    "    sum(coverageamount) as 'Coverage Amount',\n",
    "    sum(claimamount) as 'Claim Amount'\n",
    "from insurance;"
   ]
  },
  {
   "cell_type": "markdown",
   "id": "0a919620-c2ef-428c-9bef-b05aa73fc50e",
   "metadata": {},
   "source": [
    "### Determine the parity of insurance as per gender."
   ]
  },
  {
   "cell_type": "code",
   "execution_count": 8,
   "id": "298ef74a-6fa8-45f7-aa2f-92c2a35786b5",
   "metadata": {},
   "outputs": [
    {
     "data": {
      "text/html": [
       "<span style=\"None\">Running query in &#x27;sqlite:///insurance_data_analysis.db&#x27;</span>"
      ],
      "text/plain": [
       "Running query in 'sqlite:///insurance_data_analysis.db'"
      ]
     },
     "metadata": {},
     "output_type": "display_data"
    },
    {
     "data": {
      "text/html": [
       "<table>\n",
       "    <thead>\n",
       "        <tr>\n",
       "            <th>Gender</th>\n",
       "            <th>gender_count</th>\n",
       "        </tr>\n",
       "    </thead>\n",
       "    <tbody>\n",
       "        <tr>\n",
       "            <td>Female</td>\n",
       "            <td>5001</td>\n",
       "        </tr>\n",
       "        <tr>\n",
       "            <td>Male</td>\n",
       "            <td>5003</td>\n",
       "        </tr>\n",
       "    </tbody>\n",
       "</table>"
      ],
      "text/plain": [
       "Gender        gender_count        \n",
       "Female            5001            \n",
       " Male             5003            "
      ]
     },
     "execution_count": 8,
     "metadata": {},
     "output_type": "execute_result"
    }
   ],
   "source": [
    "%%sql\n",
    "select gender, count(gender) as gender_count\n",
    "from insurance\n",
    "group by gender;\n",
    "\n",
    "-- From this we can say that the data contains equal example of each class."
   ]
  },
  {
   "cell_type": "markdown",
   "id": "7b8a4a7a-8574-447b-a627-0b20c7c09296",
   "metadata": {},
   "source": [
    "### Find the sum of Premium Amount by Policy Type"
   ]
  },
  {
   "cell_type": "code",
   "execution_count": 9,
   "id": "d3030940-44d6-43d9-9cd1-7586416e6758",
   "metadata": {},
   "outputs": [
    {
     "data": {
      "text/html": [
       "<span style=\"None\">Running query in &#x27;sqlite:///insurance_data_analysis.db&#x27;</span>"
      ],
      "text/plain": [
       "Running query in 'sqlite:///insurance_data_analysis.db'"
      ]
     },
     "metadata": {},
     "output_type": "display_data"
    },
    {
     "data": {
      "text/html": [
       "<table>\n",
       "    <thead>\n",
       "        <tr>\n",
       "            <th>PolicyType</th>\n",
       "            <th>Premium Amount</th>\n",
       "        </tr>\n",
       "    </thead>\n",
       "    <tbody>\n",
       "        <tr>\n",
       "            <td>Travel</td>\n",
       "            <td>2478329.99</td>\n",
       "        </tr>\n",
       "        <tr>\n",
       "            <td>Health</td>\n",
       "            <td>1199727.04</td>\n",
       "        </tr>\n",
       "        <tr>\n",
       "            <td>Auto</td>\n",
       "            <td>959863.74</td>\n",
       "        </tr>\n",
       "        <tr>\n",
       "            <td>Life</td>\n",
       "            <td>734816.05</td>\n",
       "        </tr>\n",
       "        <tr>\n",
       "            <td>Home</td>\n",
       "            <td>604233.06</td>\n",
       "        </tr>\n",
       "    </tbody>\n",
       "</table>"
      ],
      "text/plain": [
       "PolicyType        Premium Amount        \n",
       "  Travel            2478329.99          \n",
       "  Health            1199727.04          \n",
       "   Auto             959863.74           \n",
       "   Life             734816.05           \n",
       "   Home             604233.06           "
      ]
     },
     "execution_count": 9,
     "metadata": {},
     "output_type": "execute_result"
    }
   ],
   "source": [
    "%%sql\n",
    "select policytype, sum(premiumamount) as 'Premium Amount'\n",
    "from insurance\n",
    "group by policytype\n",
    "order by sum(premiumamount) desc;\n",
    "\n",
    "-- From below we can say that people mostly buy insurance for the Travel and Health."
   ]
  },
  {
   "cell_type": "markdown",
   "id": "672b7b82-913a-4c54-996b-d21517c11b91",
   "metadata": {},
   "source": [
    "### Find the Claim Amount by Age Group"
   ]
  },
  {
   "cell_type": "code",
   "execution_count": 10,
   "id": "4ecc79f6-f3d1-4cde-b437-e751ff4673d0",
   "metadata": {},
   "outputs": [
    {
     "data": {
      "text/html": [
       "<span style=\"None\">Running query in &#x27;sqlite:///insurance_data_analysis.db&#x27;</span>"
      ],
      "text/plain": [
       "Running query in 'sqlite:///insurance_data_analysis.db'"
      ]
     },
     "metadata": {},
     "output_type": "display_data"
    },
    {
     "data": {
      "text/html": [
       "<span style=\"color: green\">10004 rows affected.</span>"
      ],
      "text/plain": [
       "10004 rows affected."
      ]
     },
     "metadata": {},
     "output_type": "display_data"
    },
    {
     "data": {
      "text/html": [
       "<table>\n",
       "    <thead>\n",
       "        <tr>\n",
       "            <th>index</th>\n",
       "            <th>PolicyNumber</th>\n",
       "            <th>CustomerID</th>\n",
       "            <th>Gender</th>\n",
       "            <th>Age</th>\n",
       "            <th>PolicyType</th>\n",
       "            <th>PolicyStartDate</th>\n",
       "            <th>PolicyEndDate</th>\n",
       "            <th>PremiumAmount</th>\n",
       "            <th>CoverageAmount</th>\n",
       "            <th>ClaimNumber</th>\n",
       "            <th>ClaimDate</th>\n",
       "            <th>ClaimAmount</th>\n",
       "            <th>ClaimStatus</th>\n",
       "            <th>agegroup</th>\n",
       "        </tr>\n",
       "    </thead>\n",
       "    <tbody>\n",
       "        <tr>\n",
       "            <td>0</td>\n",
       "            <td>P1</td>\n",
       "            <td>C1</td>\n",
       "            <td>Female</td>\n",
       "            <td>73</td>\n",
       "            <td>Auto</td>\n",
       "            <td>13-02-2024</td>\n",
       "            <td>13-02-2025</td>\n",
       "            <td>240.64</td>\n",
       "            <td>33175.1</td>\n",
       "            <td>C1</td>\n",
       "            <td>None</td>\n",
       "            <td>0.0</td>\n",
       "            <td>Rejected</td>\n",
       "            <td>Senior Citizen</td>\n",
       "        </tr>\n",
       "        <tr>\n",
       "            <td>1</td>\n",
       "            <td>P2</td>\n",
       "            <td>C2</td>\n",
       "            <td>Male</td>\n",
       "            <td>44</td>\n",
       "            <td>Travel</td>\n",
       "            <td>03-03-2024</td>\n",
       "            <td>03-03-2025</td>\n",
       "            <td>1059.73</td>\n",
       "            <td>85046.42</td>\n",
       "            <td>C2</td>\n",
       "            <td>22-06-2024</td>\n",
       "            <td>1493.06</td>\n",
       "            <td>Pending</td>\n",
       "            <td>Adult</td>\n",
       "        </tr>\n",
       "        <tr>\n",
       "            <td>2</td>\n",
       "            <td>P3</td>\n",
       "            <td>C3</td>\n",
       "            <td>Female</td>\n",
       "            <td>28</td>\n",
       "            <td>Travel</td>\n",
       "            <td>15-06-2024</td>\n",
       "            <td>15-06-2025</td>\n",
       "            <td>1019.59</td>\n",
       "            <td>68525.53</td>\n",
       "            <td>C3</td>\n",
       "            <td>None</td>\n",
       "            <td>0.0</td>\n",
       "            <td>Rejected</td>\n",
       "            <td>Elder</td>\n",
       "        </tr>\n",
       "        <tr>\n",
       "            <td>3</td>\n",
       "            <td>P4</td>\n",
       "            <td>C4</td>\n",
       "            <td>Male</td>\n",
       "            <td>85</td>\n",
       "            <td>Travel</td>\n",
       "            <td>03-06-2024</td>\n",
       "            <td>03-06-2025</td>\n",
       "            <td>549.7</td>\n",
       "            <td>17053.27</td>\n",
       "            <td>C4</td>\n",
       "            <td>25-02-2025</td>\n",
       "            <td>5021.34</td>\n",
       "            <td>Pending</td>\n",
       "            <td>Senior Citizen</td>\n",
       "        </tr>\n",
       "        <tr>\n",
       "            <td>4</td>\n",
       "            <td>P5</td>\n",
       "            <td>C5</td>\n",
       "            <td>Female</td>\n",
       "            <td>57</td>\n",
       "            <td>Travel</td>\n",
       "            <td>13-06-2024</td>\n",
       "            <td>13-06-2025</td>\n",
       "            <td>841.15</td>\n",
       "            <td>55007.27</td>\n",
       "            <td>C5</td>\n",
       "            <td>30-11-2024</td>\n",
       "            <td>1347.46</td>\n",
       "            <td>Pending</td>\n",
       "            <td>Adult</td>\n",
       "        </tr>\n",
       "    </tbody>\n",
       "</table>"
      ],
      "text/plain": [
       "index        PolicyNumber        CustomerID        Gender        Age        PolicyType        PolicyStartDate        PolicyEndDate        PremiumAmount        CoverageAmount        ClaimNumber        ClaimDate         ClaimAmount        ClaimStatus           agegroup           \n",
       "  0               P1                 C1            Female         73           Auto              13-02-2024            13-02-2025             240.64              33175.1                 C1               None               0.0              Rejected         Senior Citizen        \n",
       "  1               P2                 C2             Male          44          Travel             03-03-2024            03-03-2025            1059.73              85046.42                C2            22-06-2024          1493.06            Pending              Adult             \n",
       "  2               P3                 C3            Female         28          Travel             15-06-2024            15-06-2025            1019.59              68525.53                C3               None               0.0              Rejected             Elder             \n",
       "  3               P4                 C4             Male          85          Travel             03-06-2024            03-06-2025             549.7               17053.27                C4            25-02-2025          5021.34            Pending          Senior Citizen        \n",
       "  4               P5                 C5            Female         57          Travel             13-06-2024            13-06-2025             841.15              55007.27                C5            30-11-2024          1347.46            Pending              Adult             "
      ]
     },
     "execution_count": 10,
     "metadata": {},
     "output_type": "execute_result"
    }
   ],
   "source": [
    "%%sql\n",
    "-- We will first need to create few Age Groups \n",
    "-- Young - (0 - 18)\n",
    "-- Elder - (18 - 40)\n",
    "-- Adult - (40 - 60)\n",
    "    \n",
    "ALTER TABLE insurance ADD COLUMN agegroup TEXT;\n",
    "\n",
    "UPDATE insurance\n",
    "SET agegroup = CASE\n",
    "    WHEN age > 0 AND age <= 18 THEN 'Young'\n",
    "    WHEN age > 18 AND age <= 40 THEN 'Elder'\n",
    "    WHEN age > 40 AND age <= 60 THEN 'Adult'\n",
    "    WHEN age > 60 THEN 'Senior Citizen'\n",
    "    \n",
    "END;\n",
    "\n",
    "select * from insurance limit 5;"
   ]
  },
  {
   "cell_type": "code",
   "execution_count": 11,
   "id": "88444b87-5714-421a-8950-a13720e556d0",
   "metadata": {},
   "outputs": [
    {
     "data": {
      "text/html": [
       "<span style=\"None\">Running query in &#x27;sqlite:///insurance_data_analysis.db&#x27;</span>"
      ],
      "text/plain": [
       "Running query in 'sqlite:///insurance_data_analysis.db'"
      ]
     },
     "metadata": {},
     "output_type": "display_data"
    },
    {
     "data": {
      "text/html": [
       "<table>\n",
       "    <thead>\n",
       "        <tr>\n",
       "            <th>agegroup</th>\n",
       "            <th>Claim Amount</th>\n",
       "        </tr>\n",
       "    </thead>\n",
       "    <tbody>\n",
       "        <tr>\n",
       "            <td>Senior Citizen</td>\n",
       "            <td>6393320.53</td>\n",
       "        </tr>\n",
       "        <tr>\n",
       "            <td>Elder</td>\n",
       "            <td>5235186.0</td>\n",
       "        </tr>\n",
       "        <tr>\n",
       "            <td>Adult</td>\n",
       "            <td>5024947.08</td>\n",
       "        </tr>\n",
       "        <tr>\n",
       "            <td>Young</td>\n",
       "            <td>258849.12</td>\n",
       "        </tr>\n",
       "    </tbody>\n",
       "</table>"
      ],
      "text/plain": [
       "   agegroup           Claim Amount        \n",
       "Senior Citizen         6393320.53         \n",
       "    Elder              5235186.0          \n",
       "    Adult              5024947.08         \n",
       "    Young              258849.12          "
      ]
     },
     "execution_count": 11,
     "metadata": {},
     "output_type": "execute_result"
    }
   ],
   "source": [
    "%%sql\n",
    "select agegroup, sum(claimamount) as 'Claim Amount'\n",
    "from insurance\n",
    "group by agegroup\n",
    "order by sum(claimamount) desc;\n",
    "\n",
    "-- Here we can observe that most people tend to claim insurance in the age when they are 60 and above(which is obvious)."
   ]
  },
  {
   "cell_type": "markdown",
   "id": "f3d95459-23dd-48b6-b0d9-d0f05d2ebfff",
   "metadata": {},
   "source": [
    "### Find the Number of Claims by Claim Status"
   ]
  },
  {
   "cell_type": "code",
   "execution_count": 12,
   "id": "f875ce41-ac6a-4da6-98b4-fd0c7a2f45de",
   "metadata": {},
   "outputs": [
    {
     "data": {
      "text/html": [
       "<span style=\"None\">Running query in &#x27;sqlite:///insurance_data_analysis.db&#x27;</span>"
      ],
      "text/plain": [
       "Running query in 'sqlite:///insurance_data_analysis.db'"
      ]
     },
     "metadata": {},
     "output_type": "display_data"
    },
    {
     "data": {
      "text/html": [
       "<table>\n",
       "    <thead>\n",
       "        <tr>\n",
       "            <th>ClaimStatus</th>\n",
       "            <th>Claim Status Count</th>\n",
       "        </tr>\n",
       "    </thead>\n",
       "    <tbody>\n",
       "        <tr>\n",
       "            <td>Rejected</td>\n",
       "            <td>4355</td>\n",
       "        </tr>\n",
       "        <tr>\n",
       "            <td>Settled</td>\n",
       "            <td>3386</td>\n",
       "        </tr>\n",
       "        <tr>\n",
       "            <td>Pending</td>\n",
       "            <td>2263</td>\n",
       "        </tr>\n",
       "    </tbody>\n",
       "</table>"
      ],
      "text/plain": [
       "ClaimStatus        Claim Status Count        \n",
       "  Rejected                4355               \n",
       "  Settled                 3386               \n",
       "  Pending                 2263               "
      ]
     },
     "execution_count": 12,
     "metadata": {},
     "output_type": "execute_result"
    }
   ],
   "source": [
    "%%sql\n",
    "select claimstatus, count(claimstatus) as 'Claim Status Count'\n",
    "from insurance\n",
    "group by claimstatus\n",
    "order by count(claimstatus) desc;\n",
    "\n",
    "-- Every insurance companies try to deny most of the claims to maximize their profit."
   ]
  },
  {
   "cell_type": "markdown",
   "id": "f0d4163f-8dc0-4a13-95ce-423e9fbba995",
   "metadata": {},
   "source": [
    "### Find the Top Claims Settled by Insurance Company for each Insurance Type"
   ]
  },
  {
   "cell_type": "code",
   "execution_count": 13,
   "id": "3f0abb83-c881-4eef-8ec3-bb2922791666",
   "metadata": {},
   "outputs": [
    {
     "data": {
      "text/html": [
       "<span style=\"None\">Running query in &#x27;sqlite:///insurance_data_analysis.db&#x27;</span>"
      ],
      "text/plain": [
       "Running query in 'sqlite:///insurance_data_analysis.db'"
      ]
     },
     "metadata": {},
     "output_type": "display_data"
    },
    {
     "data": {
      "text/html": [
       "<table>\n",
       "    <thead>\n",
       "        <tr>\n",
       "            <th>index</th>\n",
       "            <th>PolicyNumber</th>\n",
       "            <th>CustomerID</th>\n",
       "            <th>Gender</th>\n",
       "            <th>Age</th>\n",
       "            <th>PolicyType</th>\n",
       "            <th>PolicyStartDate</th>\n",
       "            <th>PolicyEndDate</th>\n",
       "            <th>PremiumAmount</th>\n",
       "            <th>CoverageAmount</th>\n",
       "            <th>ClaimNumber</th>\n",
       "            <th>ClaimDate</th>\n",
       "            <th>ClaimAmount</th>\n",
       "            <th>ClaimStatus</th>\n",
       "            <th>agegroup</th>\n",
       "            <th>rn</th>\n",
       "        </tr>\n",
       "    </thead>\n",
       "    <tbody>\n",
       "        <tr>\n",
       "            <td>4339</td>\n",
       "            <td>P4340</td>\n",
       "            <td>C4340</td>\n",
       "            <td>Male</td>\n",
       "            <td>50</td>\n",
       "            <td>Auto</td>\n",
       "            <td>21-05-2024</td>\n",
       "            <td>21-05-2025</td>\n",
       "            <td>213.84</td>\n",
       "            <td>96575.23</td>\n",
       "            <td>C4340</td>\n",
       "            <td>03-11-2024</td>\n",
       "            <td>5498.58</td>\n",
       "            <td>Settled</td>\n",
       "            <td>Adult</td>\n",
       "            <td>1</td>\n",
       "        </tr>\n",
       "        <tr>\n",
       "            <td>7198</td>\n",
       "            <td>P7199</td>\n",
       "            <td>C7199</td>\n",
       "            <td>Female</td>\n",
       "            <td>45</td>\n",
       "            <td>Health</td>\n",
       "            <td>29-12-2023</td>\n",
       "            <td>29-12-2024</td>\n",
       "            <td>944.05</td>\n",
       "            <td>81736.24</td>\n",
       "            <td>C7199</td>\n",
       "            <td>29-05-2024</td>\n",
       "            <td>5477.51</td>\n",
       "            <td>Settled</td>\n",
       "            <td>Adult</td>\n",
       "            <td>1</td>\n",
       "        </tr>\n",
       "        <tr>\n",
       "            <td>2656</td>\n",
       "            <td>P2657</td>\n",
       "            <td>C2657</td>\n",
       "            <td>Female</td>\n",
       "            <td>58</td>\n",
       "            <td>Home</td>\n",
       "            <td>29-04-2024</td>\n",
       "            <td>29-04-2025</td>\n",
       "            <td>854.23</td>\n",
       "            <td>15687.58</td>\n",
       "            <td>C2657</td>\n",
       "            <td>25-01-2025</td>\n",
       "            <td>5494.7</td>\n",
       "            <td>Settled</td>\n",
       "            <td>Adult</td>\n",
       "            <td>1</td>\n",
       "        </tr>\n",
       "        <tr>\n",
       "            <td>9621</td>\n",
       "            <td>P9622</td>\n",
       "            <td>C9622</td>\n",
       "            <td>Male</td>\n",
       "            <td>45</td>\n",
       "            <td>Life</td>\n",
       "            <td>30-01-2024</td>\n",
       "            <td>30-01-2025</td>\n",
       "            <td>842.22</td>\n",
       "            <td>30897.41</td>\n",
       "            <td>C9622</td>\n",
       "            <td>04-08-2024</td>\n",
       "            <td>5491.77</td>\n",
       "            <td>Settled</td>\n",
       "            <td>Adult</td>\n",
       "            <td>1</td>\n",
       "        </tr>\n",
       "        <tr>\n",
       "            <td>3827</td>\n",
       "            <td>P3828</td>\n",
       "            <td>C3828</td>\n",
       "            <td>Male</td>\n",
       "            <td>70</td>\n",
       "            <td>Travel</td>\n",
       "            <td>23-10-2023</td>\n",
       "            <td>23-10-2024</td>\n",
       "            <td>972.96</td>\n",
       "            <td>84343.94</td>\n",
       "            <td>C3828</td>\n",
       "            <td>27-01-2024</td>\n",
       "            <td>5489.38</td>\n",
       "            <td>Settled</td>\n",
       "            <td>Senior Citizen</td>\n",
       "            <td>1</td>\n",
       "        </tr>\n",
       "    </tbody>\n",
       "</table>"
      ],
      "text/plain": [
       "index        PolicyNumber        CustomerID        Gender        Age        PolicyType        PolicyStartDate        PolicyEndDate        PremiumAmount        CoverageAmount        ClaimNumber        ClaimDate         ClaimAmount        ClaimStatus           agegroup           rn        \n",
       " 4339           P4340              C4340            Male          50           Auto              21-05-2024            21-05-2025             213.84              96575.23              C4340           03-11-2024          5498.58            Settled              Adult             1         \n",
       " 7198           P7199              C7199           Female         45          Health             29-12-2023            29-12-2024             944.05              81736.24              C7199           29-05-2024          5477.51            Settled              Adult             1         \n",
       " 2656           P2657              C2657           Female         58           Home              29-04-2024            29-04-2025             854.23              15687.58              C2657           25-01-2025           5494.7            Settled              Adult             1         \n",
       " 9621           P9622              C9622            Male          45           Life              30-01-2024            30-01-2025             842.22              30897.41              C9622           04-08-2024          5491.77            Settled              Adult             1         \n",
       " 3827           P3828              C3828            Male          70          Travel             23-10-2023            23-10-2024             972.96              84343.94              C3828           27-01-2024          5489.38            Settled          Senior Citizen        1         "
      ]
     },
     "execution_count": 13,
     "metadata": {},
     "output_type": "execute_result"
    }
   ],
   "source": [
    "%%sql\n",
    "with cte as (\n",
    "    select *, row_number() over (partition by policytype\n",
    "            order by claimamount desc) as rn\n",
    "    from insurance\n",
    "    where claimstatus='Settled'\n",
    ")\n",
    "    \n",
    "select * from cte\n",
    "where rn=1;\n",
    "\n",
    "-- This data can help advertising team to bring more customers."
   ]
  },
  {
   "cell_type": "markdown",
   "id": "afe9c482-03ef-4620-9211-4d0c97d8b9cb",
   "metadata": {},
   "source": [
    "### Identify the Customers with Overlapping Insurances"
   ]
  },
  {
   "cell_type": "code",
   "execution_count": 14,
   "id": "9d6972b8-cdf6-4a85-8338-d39d48edae58",
   "metadata": {},
   "outputs": [
    {
     "data": {
      "text/html": [
       "<span style=\"None\">Running query in &#x27;sqlite:///insurance_data_analysis.db&#x27;</span>"
      ],
      "text/plain": [
       "Running query in 'sqlite:///insurance_data_analysis.db'"
      ]
     },
     "metadata": {},
     "output_type": "display_data"
    },
    {
     "data": {
      "text/html": [
       "<table>\n",
       "    <thead>\n",
       "        <tr>\n",
       "            <th>index</th>\n",
       "            <th>PolicyNumber</th>\n",
       "            <th>CustomerID</th>\n",
       "            <th>Gender</th>\n",
       "            <th>Age</th>\n",
       "            <th>PolicyType</th>\n",
       "            <th>PolicyStartDate</th>\n",
       "            <th>PolicyEndDate</th>\n",
       "            <th>PremiumAmount</th>\n",
       "            <th>CoverageAmount</th>\n",
       "            <th>ClaimNumber</th>\n",
       "            <th>ClaimDate</th>\n",
       "            <th>ClaimAmount</th>\n",
       "            <th>ClaimStatus</th>\n",
       "            <th>agegroup</th>\n",
       "            <th>index_1</th>\n",
       "            <th>PolicyNumber_1</th>\n",
       "            <th>CustomerID_1</th>\n",
       "            <th>Gender_1</th>\n",
       "            <th>Age_1</th>\n",
       "            <th>PolicyType_1</th>\n",
       "            <th>PolicyStartDate_1</th>\n",
       "            <th>PolicyEndDate_1</th>\n",
       "            <th>PremiumAmount_1</th>\n",
       "            <th>CoverageAmount_1</th>\n",
       "            <th>ClaimNumber_1</th>\n",
       "            <th>ClaimDate_1</th>\n",
       "            <th>ClaimAmount_1</th>\n",
       "            <th>ClaimStatus_1</th>\n",
       "            <th>agegroup_1</th>\n",
       "        </tr>\n",
       "    </thead>\n",
       "    <tbody>\n",
       "    </tbody>\n",
       "</table>"
      ],
      "text/plain": []
     },
     "execution_count": 14,
     "metadata": {},
     "output_type": "execute_result"
    }
   ],
   "source": [
    "%%sql\n",
    "\n",
    "select *\n",
    "from insurance i1\n",
    "join insurance i2 \n",
    "  on i1.customerid = i2.customerid\n",
    "  and i1.policynumber != i2.policynumber\n",
    "where i1.policystartdate < i2.policyenddate\n",
    "  and i1.policyenddate > i2.policystartdate;\n",
    "\n",
    "-- This will help identify the customrs who may have multiple insurnces and try to get claims by each.\n",
    "-- But there are no such cases with overlapping insurances."
   ]
  },
  {
   "cell_type": "markdown",
   "id": "08bf560f-be5e-4bf3-a5a2-052e87f18ea0",
   "metadata": {},
   "source": [
    "### Find the count of Monthly Claims"
   ]
  },
  {
   "cell_type": "code",
   "execution_count": 15,
   "id": "96bc57e9-018a-43cd-874d-2a5214093a98",
   "metadata": {},
   "outputs": [
    {
     "data": {
      "text/html": [
       "<span style=\"None\">Running query in &#x27;sqlite:///insurance_data_analysis.db&#x27;</span>"
      ],
      "text/plain": [
       "Running query in 'sqlite:///insurance_data_analysis.db'"
      ]
     },
     "metadata": {},
     "output_type": "display_data"
    },
    {
     "data": {
      "text/html": [
       "<table>\n",
       "    <thead>\n",
       "        <tr>\n",
       "            <th>claimmonth</th>\n",
       "            <th>Number of Claims</th>\n",
       "        </tr>\n",
       "    </thead>\n",
       "    <tbody>\n",
       "        <tr>\n",
       "            <td>01</td>\n",
       "            <td>304</td>\n",
       "        </tr>\n",
       "        <tr>\n",
       "            <td>09</td>\n",
       "            <td>299</td>\n",
       "        </tr>\n",
       "        <tr>\n",
       "            <td>07</td>\n",
       "            <td>299</td>\n",
       "        </tr>\n",
       "        <tr>\n",
       "            <td>12</td>\n",
       "            <td>294</td>\n",
       "        </tr>\n",
       "        <tr>\n",
       "            <td>05</td>\n",
       "            <td>293</td>\n",
       "        </tr>\n",
       "        <tr>\n",
       "            <td>03</td>\n",
       "            <td>292</td>\n",
       "        </tr>\n",
       "        <tr>\n",
       "            <td>11</td>\n",
       "            <td>279</td>\n",
       "        </tr>\n",
       "        <tr>\n",
       "            <td>10</td>\n",
       "            <td>274</td>\n",
       "        </tr>\n",
       "        <tr>\n",
       "            <td>04</td>\n",
       "            <td>272</td>\n",
       "        </tr>\n",
       "        <tr>\n",
       "            <td>02</td>\n",
       "            <td>272</td>\n",
       "        </tr>\n",
       "    </tbody>\n",
       "</table>\n",
       "<span style=\"font-style:italic;text-align:center;\">Truncated to <a href=\"https://jupysql.ploomber.io/en/latest/api/configuration.html#displaylimit\">displaylimit</a> of 10.</span>"
      ],
      "text/plain": [
       "claimmonth        Number of Claims        \n",
       "    01                  304               \n",
       "    09                  299               \n",
       "    07                  299               \n",
       "    12                  294               \n",
       "    05                  293               \n",
       "    03                  292               \n",
       "    11                  279               \n",
       "    10                  274               \n",
       "    04                  272               \n",
       "    02                  272               \n",
       "Truncated to displaylimit of 10."
      ]
     },
     "execution_count": 15,
     "metadata": {},
     "output_type": "execute_result"
    }
   ],
   "source": [
    "%%sql\n",
    "\n",
    "with cte as (\n",
    "    select substr(claimdate, 4, 2) as claimmonth\n",
    "    from insurance\n",
    "    where claimstatus='Settled'\n",
    ")\n",
    "\n",
    "select claimmonth, count(claimmonth) as 'Number of Claims'\n",
    "from cte\n",
    "group by claimmonth\n",
    "order by count(*) desc;\n",
    "\n",
    "-- Here even though we cannot identify any trend but it is good to have this figures for monthly analysis report."
   ]
  },
  {
   "cell_type": "markdown",
   "id": "a00ef128-199d-40ed-8c3c-ecb700040628",
   "metadata": {},
   "source": [
    "### Find Insurances who never made any Claims"
   ]
  },
  {
   "cell_type": "code",
   "execution_count": 16,
   "id": "8c1eb92e-4d5a-4599-beac-53ecf59fbe3b",
   "metadata": {},
   "outputs": [
    {
     "data": {
      "text/html": [
       "<span style=\"None\">Running query in &#x27;sqlite:///insurance_data_analysis.db&#x27;</span>"
      ],
      "text/plain": [
       "Running query in 'sqlite:///insurance_data_analysis.db'"
      ]
     },
     "metadata": {},
     "output_type": "display_data"
    },
    {
     "data": {
      "text/html": [
       "<table>\n",
       "    <thead>\n",
       "        <tr>\n",
       "            <th>index</th>\n",
       "            <th>PolicyNumber</th>\n",
       "            <th>CustomerID</th>\n",
       "            <th>Gender</th>\n",
       "            <th>Age</th>\n",
       "            <th>PolicyType</th>\n",
       "            <th>PolicyStartDate</th>\n",
       "            <th>PolicyEndDate</th>\n",
       "            <th>PremiumAmount</th>\n",
       "            <th>CoverageAmount</th>\n",
       "            <th>ClaimNumber</th>\n",
       "            <th>ClaimDate</th>\n",
       "            <th>ClaimAmount</th>\n",
       "            <th>ClaimStatus</th>\n",
       "            <th>agegroup</th>\n",
       "        </tr>\n",
       "    </thead>\n",
       "    <tbody>\n",
       "        <tr>\n",
       "            <td>0</td>\n",
       "            <td>P1</td>\n",
       "            <td>C1</td>\n",
       "            <td>Female</td>\n",
       "            <td>73</td>\n",
       "            <td>Auto</td>\n",
       "            <td>13-02-2024</td>\n",
       "            <td>13-02-2025</td>\n",
       "            <td>240.64</td>\n",
       "            <td>33175.1</td>\n",
       "            <td>C1</td>\n",
       "            <td>None</td>\n",
       "            <td>0.0</td>\n",
       "            <td>Rejected</td>\n",
       "            <td>Senior Citizen</td>\n",
       "        </tr>\n",
       "        <tr>\n",
       "            <td>2</td>\n",
       "            <td>P3</td>\n",
       "            <td>C3</td>\n",
       "            <td>Female</td>\n",
       "            <td>28</td>\n",
       "            <td>Travel</td>\n",
       "            <td>15-06-2024</td>\n",
       "            <td>15-06-2025</td>\n",
       "            <td>1019.59</td>\n",
       "            <td>68525.53</td>\n",
       "            <td>C3</td>\n",
       "            <td>None</td>\n",
       "            <td>0.0</td>\n",
       "            <td>Rejected</td>\n",
       "            <td>Elder</td>\n",
       "        </tr>\n",
       "        <tr>\n",
       "            <td>10</td>\n",
       "            <td>P11</td>\n",
       "            <td>C11</td>\n",
       "            <td>Female</td>\n",
       "            <td>65</td>\n",
       "            <td>Health</td>\n",
       "            <td>04-08-2023</td>\n",
       "            <td>04-08-2024</td>\n",
       "            <td>333.2</td>\n",
       "            <td>46868.19</td>\n",
       "            <td>C11</td>\n",
       "            <td>None</td>\n",
       "            <td>0.0</td>\n",
       "            <td>Rejected</td>\n",
       "            <td>Senior Citizen</td>\n",
       "        </tr>\n",
       "        <tr>\n",
       "            <td>11</td>\n",
       "            <td>P12</td>\n",
       "            <td>C12</td>\n",
       "            <td>Male</td>\n",
       "            <td>47</td>\n",
       "            <td>Home</td>\n",
       "            <td>16-09-2023</td>\n",
       "            <td>16-09-2024</td>\n",
       "            <td>645.73</td>\n",
       "            <td>67012.84</td>\n",
       "            <td>C12</td>\n",
       "            <td>None</td>\n",
       "            <td>0.0</td>\n",
       "            <td>Rejected</td>\n",
       "            <td>Adult</td>\n",
       "        </tr>\n",
       "        <tr>\n",
       "            <td>12</td>\n",
       "            <td>P13</td>\n",
       "            <td>C13</td>\n",
       "            <td>Female</td>\n",
       "            <td>46</td>\n",
       "            <td>Travel</td>\n",
       "            <td>17-08-2023</td>\n",
       "            <td>17-08-2024</td>\n",
       "            <td>646.14</td>\n",
       "            <td>87450.81</td>\n",
       "            <td>C13</td>\n",
       "            <td>None</td>\n",
       "            <td>0.0</td>\n",
       "            <td>Rejected</td>\n",
       "            <td>Adult</td>\n",
       "        </tr>\n",
       "    </tbody>\n",
       "</table>"
      ],
      "text/plain": [
       "index        PolicyNumber        CustomerID        Gender        Age        PolicyType        PolicyStartDate        PolicyEndDate        PremiumAmount        CoverageAmount        ClaimNumber        ClaimDate        ClaimAmount        ClaimStatus           agegroup           \n",
       "  0               P1                 C1            Female         73           Auto              13-02-2024            13-02-2025             240.64              33175.1                 C1               None              0.0              Rejected         Senior Citizen        \n",
       "  2               P3                 C3            Female         28          Travel             15-06-2024            15-06-2025            1019.59              68525.53                C3               None              0.0              Rejected             Elder             \n",
       "  10             P11                C11            Female         65          Health             04-08-2023            04-08-2024             333.2               46868.19               C11               None              0.0              Rejected         Senior Citizen        \n",
       "  11             P12                C12             Male          47           Home              16-09-2023            16-09-2024             645.73              67012.84               C12               None              0.0              Rejected             Adult             \n",
       "  12             P13                C13            Female         46          Travel             17-08-2023            17-08-2024             646.14              87450.81               C13               None              0.0              Rejected             Adult             "
      ]
     },
     "execution_count": 16,
     "metadata": {},
     "output_type": "execute_result"
    }
   ],
   "source": [
    "%%sql\n",
    "\n",
    "select * from insurance\n",
    "where claimamount=0\n",
    "limit 5;\n",
    "\n",
    "-- These can be used at times to reward customers for not making any claims and provide them some extra benefits to retain them.\n",
    "-- This is a very crucial element for any insurance company to retain its customers."
   ]
  },
  {
   "cell_type": "markdown",
   "id": "eb156217-ac4a-4952-8e33-6efce050b8a4",
   "metadata": {},
   "source": [
    "### Calculate Coverage-to-Premium Ratio Ranking"
   ]
  },
  {
   "cell_type": "code",
   "execution_count": 17,
   "id": "3490ffbe-5a20-4c3a-b8d8-35a88564756c",
   "metadata": {},
   "outputs": [
    {
     "data": {
      "text/html": [
       "<span style=\"None\">Running query in &#x27;sqlite:///insurance_data_analysis.db&#x27;</span>"
      ],
      "text/plain": [
       "Running query in 'sqlite:///insurance_data_analysis.db'"
      ]
     },
     "metadata": {},
     "output_type": "display_data"
    },
    {
     "data": {
      "text/html": [
       "<table>\n",
       "    <thead>\n",
       "        <tr>\n",
       "            <th>policynumber</th>\n",
       "            <th>policytype</th>\n",
       "            <th>customerid</th>\n",
       "            <th>coverageamount</th>\n",
       "            <th>premiumamount</th>\n",
       "            <th>ratio</th>\n",
       "            <th>ratio_rank</th>\n",
       "        </tr>\n",
       "    </thead>\n",
       "    <tbody>\n",
       "        <tr>\n",
       "            <td>P338</td>\n",
       "            <td>Auto</td>\n",
       "            <td>C338</td>\n",
       "            <td>108138.56</td>\n",
       "            <td>102.23</td>\n",
       "            <td>1057.7967328572824</td>\n",
       "            <td>1</td>\n",
       "        </tr>\n",
       "        <tr>\n",
       "            <td>P9963</td>\n",
       "            <td>Travel</td>\n",
       "            <td>C9963</td>\n",
       "            <td>109921.43</td>\n",
       "            <td>106.47</td>\n",
       "            <td>1032.4169249553865</td>\n",
       "            <td>2</td>\n",
       "        </tr>\n",
       "        <tr>\n",
       "            <td>P7022</td>\n",
       "            <td>Travel</td>\n",
       "            <td>C7022</td>\n",
       "            <td>104854.97</td>\n",
       "            <td>102.14</td>\n",
       "            <td>1026.5808693949482</td>\n",
       "            <td>3</td>\n",
       "        </tr>\n",
       "        <tr>\n",
       "            <td>P889</td>\n",
       "            <td>Travel</td>\n",
       "            <td>C889</td>\n",
       "            <td>109407.46</td>\n",
       "            <td>107.35</td>\n",
       "            <td>1019.1659059152307</td>\n",
       "            <td>4</td>\n",
       "        </tr>\n",
       "        <tr>\n",
       "            <td>P8554</td>\n",
       "            <td>Travel</td>\n",
       "            <td>C8554</td>\n",
       "            <td>108094.38</td>\n",
       "            <td>106.21</td>\n",
       "            <td>1017.7420205253744</td>\n",
       "            <td>5</td>\n",
       "        </tr>\n",
       "        <tr>\n",
       "            <td>P8371</td>\n",
       "            <td>Health</td>\n",
       "            <td>C8371</td>\n",
       "            <td>106888.37</td>\n",
       "            <td>106.41</td>\n",
       "            <td>1004.495536133822</td>\n",
       "            <td>6</td>\n",
       "        </tr>\n",
       "        <tr>\n",
       "            <td>P9658</td>\n",
       "            <td>Life</td>\n",
       "            <td>C9658</td>\n",
       "            <td>107002.0</td>\n",
       "            <td>106.68</td>\n",
       "            <td>1003.018372703412</td>\n",
       "            <td>7</td>\n",
       "        </tr>\n",
       "        <tr>\n",
       "            <td>P9916</td>\n",
       "            <td>Travel</td>\n",
       "            <td>C9916</td>\n",
       "            <td>106228.25</td>\n",
       "            <td>106.61</td>\n",
       "            <td>996.4191914454555</td>\n",
       "            <td>8</td>\n",
       "        </tr>\n",
       "        <tr>\n",
       "            <td>P9798</td>\n",
       "            <td>Home</td>\n",
       "            <td>C9798</td>\n",
       "            <td>105640.68</td>\n",
       "            <td>106.49</td>\n",
       "            <td>992.0244154380692</td>\n",
       "            <td>9</td>\n",
       "        </tr>\n",
       "        <tr>\n",
       "            <td>P1339</td>\n",
       "            <td>Health</td>\n",
       "            <td>C1339</td>\n",
       "            <td>109450.99</td>\n",
       "            <td>110.55</td>\n",
       "            <td>990.0587064676618</td>\n",
       "            <td>10</td>\n",
       "        </tr>\n",
       "    </tbody>\n",
       "</table>\n",
       "<span style=\"font-style:italic;text-align:center;\">Truncated to <a href=\"https://jupysql.ploomber.io/en/latest/api/configuration.html#displaylimit\">displaylimit</a> of 10.</span>"
      ],
      "text/plain": [
       "policynumber        policytype        customerid        coverageamount        premiumamount              ratio               ratio_rank        \n",
       "    P338               Auto              C338             108138.56               102.23           1057.7967328572824            1             \n",
       "   P9963              Travel            C9963             109921.43               106.47           1032.4169249553865            2             \n",
       "   P7022              Travel            C7022             104854.97               102.14           1026.5808693949482            3             \n",
       "    P889              Travel             C889             109407.46               107.35           1019.1659059152307            4             \n",
       "   P8554              Travel            C8554             108094.38               106.21           1017.7420205253744            5             \n",
       "   P8371              Health            C8371             106888.37               106.41           1004.495536133822             6             \n",
       "   P9658               Life             C9658              107002.0               106.68           1003.018372703412             7             \n",
       "   P9916              Travel            C9916             106228.25               106.61           996.4191914454555             8             \n",
       "   P9798               Home             C9798             105640.68               106.49           992.0244154380692             9             \n",
       "   P1339              Health            C1339             109450.99               110.55           990.0587064676618             10            \n",
       "Truncated to displaylimit of 10."
      ]
     },
     "execution_count": 17,
     "metadata": {},
     "output_type": "execute_result"
    }
   ],
   "source": [
    "%%sql\n",
    "\n",
    "with ratio_cte as (\n",
    "  select\n",
    "    policynumber,\n",
    "    policytype,\n",
    "    customerid,\n",
    "    coverageamount,\n",
    "    premiumamount,\n",
    "    cast(coverageamount as float) / nullif(premiumamount, 0) as ratio\n",
    "  from insurance\n",
    ")\n",
    "\n",
    "select *,\n",
    "  dense_rank() over (order by ratio desc) as ratio_rank\n",
    "from ratio_cte;\n",
    "\n",
    "-- Bloated Coverage Amounts helps attract more customers."
   ]
  },
  {
   "cell_type": "markdown",
   "id": "430ec634-d976-4de2-aa52-2bd5d6fc42dc",
   "metadata": {},
   "source": [
    "### Calculate the Market Share in each Policy Type"
   ]
  },
  {
   "cell_type": "code",
   "execution_count": 18,
   "id": "cb372272-2519-42f3-b054-9de92fae55ae",
   "metadata": {},
   "outputs": [
    {
     "data": {
      "text/html": [
       "<span style=\"None\">Running query in &#x27;sqlite:///insurance_data_analysis.db&#x27;</span>"
      ],
      "text/plain": [
       "Running query in 'sqlite:///insurance_data_analysis.db'"
      ]
     },
     "metadata": {},
     "output_type": "display_data"
    },
    {
     "data": {
      "text/html": [
       "<table>\n",
       "    <thead>\n",
       "        <tr>\n",
       "            <th>policytype</th>\n",
       "            <th>type_total</th>\n",
       "            <th>market_share_percent</th>\n",
       "        </tr>\n",
       "    </thead>\n",
       "    <tbody>\n",
       "        <tr>\n",
       "            <td>Travel</td>\n",
       "            <td>4148</td>\n",
       "            <td>41.46</td>\n",
       "        </tr>\n",
       "        <tr>\n",
       "            <td>Health</td>\n",
       "            <td>2000</td>\n",
       "            <td>19.99</td>\n",
       "        </tr>\n",
       "        <tr>\n",
       "            <td>Auto</td>\n",
       "            <td>1595</td>\n",
       "            <td>15.94</td>\n",
       "        </tr>\n",
       "        <tr>\n",
       "            <td>Life</td>\n",
       "            <td>1248</td>\n",
       "            <td>12.48</td>\n",
       "        </tr>\n",
       "        <tr>\n",
       "            <td>Home</td>\n",
       "            <td>1013</td>\n",
       "            <td>10.13</td>\n",
       "        </tr>\n",
       "    </tbody>\n",
       "</table>"
      ],
      "text/plain": [
       "policytype        type_total        market_share_percent        \n",
       "  Travel             4148                  41.46                \n",
       "  Health             2000                  19.99                \n",
       "   Auto              1595                  15.94                \n",
       "   Life              1248                  12.48                \n",
       "   Home              1013                  10.13                "
      ]
     },
     "execution_count": 18,
     "metadata": {},
     "output_type": "execute_result"
    }
   ],
   "source": [
    "%%sql\n",
    "\n",
    "with type_counts as (\n",
    "  select policytype, count(*) as type_total\n",
    "  from insurance\n",
    "  group by policytype\n",
    "),\n",
    "\n",
    "total_count as (\n",
    "  select count(*) as total_policies\n",
    "  from insurance\n",
    ")\n",
    "\n",
    "select \n",
    "  t.policytype,\n",
    "  t.type_total,\n",
    "  round((t.type_total * 100.0) / tc.total_policies, 2) as market_share_percent\n",
    "from type_counts t\n",
    "cross join total_count tc\n",
    "order by market_share_percent desc;\n",
    "\n",
    "-- This will give us a better idea of the market segment that are supposed to be targeted."
   ]
  },
  {
   "cell_type": "code",
   "execution_count": null,
   "id": "7ab8edca-ed00-41b3-99e3-1de56d25d979",
   "metadata": {},
   "outputs": [],
   "source": []
  }
 ],
 "metadata": {
  "kernelspec": {
   "display_name": "Python 3 (ipykernel)",
   "language": "python",
   "name": "python3"
  },
  "language_info": {
   "codemirror_mode": {
    "name": "ipython",
    "version": 3
   },
   "file_extension": ".py",
   "mimetype": "text/x-python",
   "name": "python",
   "nbconvert_exporter": "python",
   "pygments_lexer": "ipython3",
   "version": "3.12.7"
  }
 },
 "nbformat": 4,
 "nbformat_minor": 5
}
